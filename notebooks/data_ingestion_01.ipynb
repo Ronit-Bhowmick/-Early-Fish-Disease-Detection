{
 "cells": [],
 "metadata": {
  "kernelspec": {
   "display_name": "fish-disease",
   "language": "python",
   "name": "python3"
  },
  "language_info": {
   "name": "python",
   "version": "-1.-1.-1"
  }
 },
 "nbformat": 4,
 "nbformat_minor": 2
}
